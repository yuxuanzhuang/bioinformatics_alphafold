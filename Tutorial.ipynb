{
 "cells": [
  {
   "cell_type": "markdown",
   "metadata": {},
   "source": [
    "# Introduction to Bioinformatics Computer Lab --- When Bioinformatics meet AlphaFold"
   ]
  },
  {
   "cell_type": "markdown",
   "metadata": {},
   "source": [
    "Author: Yuxuan Zhuang\n",
    "\n",
    "Last updated: November 2021\n",
    "\n",
    "Packages required:\n",
    "\n",
    "- ColabFold [https://github.com/sokrypton/ColabFold]\n",
    "\n",
    "- Numpy\n",
    "\n",
    "- Matplotlib (for plotting)\n",
    "\n",
    "- Nglview (for molecular visualization)"
   ]
  },
  {
   "cell_type": "markdown",
   "metadata": {},
   "source": [
    "## Linux Commands for Beginners"
   ]
  },
  {
   "cell_type": "markdown",
   "metadata": {},
   "source": [
    "If you are not familiar with Linux, don't worry:) it is just like any other operating systems.\n",
    "\n",
    "Some very basic commands are provided in [file](./linux-commands-for-beginners.pdf)\n",
    "\n",
    "You can try whatever you want in the linux terminal and finish some very simple tasks listed below.\n",
    "\n",
    "(Don't worry about killing the machine---it is a virtual machine, you can always start over. "
   ]
  },
  {
   "cell_type": "markdown",
   "metadata": {},
   "source": [
    "## Git and github"
   ]
  },
  {
   "cell_type": "markdown",
   "metadata": {},
   "source": [
    "## Environment Preparation"
   ]
  },
  {
   "cell_type": "markdown",
   "metadata": {},
   "source": [
    "You need to create a new conda environment to install all the package mentioned above and later set it as a jupyter kernel."
   ]
  },
  {
   "cell_type": "markdown",
   "metadata": {},
   "source": [
    "In the Linux terminal, run\n",
    "\n",
    "- `conda init colab_env python==3.8`\n",
    "- `conda activate colab_env`\n",
    "- `pip install ipython ipykernel jupyter`\n",
    "- `pip install numpy matplotlib nglview`\n",
    "- `python -m ipykernel install --user --name colab_env --display-name \"colab_env\"`\n",
    "\n",
    "Reload this website and you will see the new kernel ready for selection."
   ]
  },
  {
   "cell_type": "markdown",
   "metadata": {},
   "source": [
    "## What is AlphaFold2"
   ]
  },
  {
   "cell_type": "markdown",
   "metadata": {},
   "source": [
    "![image](https://lh3.googleusercontent.com/pL18FAkwzN55iHvMt2W4XRGjueHWe0ILqX1Qm2e4qlPsK3yjDSott3LZIgSg2uqPPn7Zvu3hfxUtYtjDs3bM27zcF8AO_jYnfk8q=w2048-rw-v1)\n",
    "An overview of the main neural network model architecture. (https://deepmind.com/blog/article/alphafold-a-solution-to-a-50-year-old-grand-challenge-in-biology)"
   ]
  },
  {
   "cell_type": "code",
   "execution_count": 8,
   "metadata": {},
   "outputs": [
    {
     "data": {
      "application/vnd.jupyter.widget-view+json": {
       "model_id": "dbfa415823a74f1b8c69077c549c9993",
       "version_major": 2,
       "version_minor": 0
      },
      "text/plain": [
       "_ColormakerRegistry()"
      ]
     },
     "metadata": {},
     "output_type": "display_data"
    }
   ],
   "source": [
    "import matplotlib\n",
    "import nglview"
   ]
  },
  {
   "cell_type": "code",
   "execution_count": null,
   "metadata": {
    "jupyter": {
     "source_hidden": true
    }
   },
   "outputs": [],
   "source": [
    "import sys\n",
    "\n",
    "from colabfold.download import download_alphafold_params, default_data_dir\n",
    "from colabfold.utils import setup_logging\n",
    "from colabfold.batch import get_queries, run\n",
    "\n",
    "query_sequence = \"\".join(query_sequence.split())\n",
    "\n",
    "result_dir=\".\"\n",
    "run(\n",
    "    queries=query_sequence,\n",
    "    result_dir='./result',\n",
    "    use_templates=False,\n",
    "    use_amber=False,\n",
    "    msa_mode='MMseqs2 (UniRef+Environmental)',\n",
    "    num_models=5,\n",
    "    num_recycles=3,\n",
    "    model_order=[1, 2, 3, 4, 5],\n",
    "    is_complex=is_complex,\n",
    "    data_dir=Path(\".\"),\n",
    "    keep_existing_results=False,\n",
    "    recompile_padding=1.0,\n",
    "    rank_mode=\"auto\",\n",
    "    pair_mode=\"unpaired+paired\",\n",
    "    stop_at_score=float(100),\n",
    ")"
   ]
  },
  {
   "cell_type": "code",
   "execution_count": 6,
   "metadata": {},
   "outputs": [],
   "source": [
    "query_sequence = 'PIAQIHILEGRSDEQKETLIREVSEAISRSLDAPLTSVRVIITEMAKGHFGIGGELASK'"
   ]
  },
  {
   "cell_type": "code",
   "execution_count": 7,
   "metadata": {},
   "outputs": [],
   "source": [
    "def submit_sequence_to_server(query_sequence):\n",
    "    predicted_pdb_structure = 'example.pdb'\n",
    "    return predicted_pdb_structure\n",
    "\n",
    "predicted_structure = submit_sequence_to_server(query_sequence)"
   ]
  },
  {
   "cell_type": "code",
   "execution_count": null,
   "metadata": {},
   "outputs": [],
   "source": [
    "nglview.show('example.pdb')"
   ]
  },
  {
   "cell_type": "markdown",
   "metadata": {},
   "source": [
    "## Reference\n",
    "\n",
    "[AlphaFold2.ipynb](https://colab.research.google.com/github/sokrypton/ColabFold/blob/main/AlphaFold2.ipynb)"
   ]
  }
 ],
 "metadata": {
  "kernelspec": {
   "display_name": "gsoc",
   "language": "python",
   "name": "gsoc"
  },
  "language_info": {
   "codemirror_mode": {
    "name": "ipython",
    "version": 3
   },
   "file_extension": ".py",
   "mimetype": "text/x-python",
   "name": "python",
   "nbconvert_exporter": "python",
   "pygments_lexer": "ipython3",
   "version": "3.8.3"
  }
 },
 "nbformat": 4,
 "nbformat_minor": 4
}
